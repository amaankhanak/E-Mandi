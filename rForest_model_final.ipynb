{
 "cells": [
  {
   "attachments": {},
   "cell_type": "markdown",
   "metadata": {},
   "source": [
    "Importing Libraries"
   ]
  },
  {
   "cell_type": "code",
   "execution_count": 1,
   "metadata": {},
   "outputs": [],
   "source": [
    "import numpy as np\n",
    "import pandas as pd\n",
    "from sklearn.ensemble import RandomForestRegressor\n",
    "from sklearn.metrics import mean_squared_error, r2_score\n",
    "from sklearn.model_selection import train_test_split\n",
    "from sklearn.preprocessing import MinMaxScaler, LabelEncoder"
   ]
  },
  {
   "cell_type": "code",
   "execution_count": 2,
   "metadata": {},
   "outputs": [],
   "source": [
    "# ---- Disable Warnings ----#\n",
    "pd.options.mode.chained_assignment = None"
   ]
  },
  {
   "attachments": {},
   "cell_type": "markdown",
   "metadata": {},
   "source": [
    "Reading the Dataset"
   ]
  },
  {
   "cell_type": "code",
   "execution_count": 3,
   "metadata": {},
   "outputs": [
    {
     "data": {
      "text/html": [
       "<div>\n",
       "<style scoped>\n",
       "    .dataframe tbody tr th:only-of-type {\n",
       "        vertical-align: middle;\n",
       "    }\n",
       "\n",
       "    .dataframe tbody tr th {\n",
       "        vertical-align: top;\n",
       "    }\n",
       "\n",
       "    .dataframe thead th {\n",
       "        text-align: right;\n",
       "    }\n",
       "</style>\n",
       "<table border=\"1\" class=\"dataframe\">\n",
       "  <thead>\n",
       "    <tr style=\"text-align: right;\">\n",
       "      <th></th>\n",
       "      <th>Sl no.</th>\n",
       "      <th>District Name</th>\n",
       "      <th>Market Name</th>\n",
       "      <th>Commodity</th>\n",
       "      <th>Variety</th>\n",
       "      <th>Grade</th>\n",
       "      <th>Min Price (Rs./Quintal)</th>\n",
       "      <th>Max Price (Rs./Quintal)</th>\n",
       "      <th>Modal Price (Rs./Quintal)</th>\n",
       "      <th>Price Date</th>\n",
       "    </tr>\n",
       "  </thead>\n",
       "  <tbody>\n",
       "    <tr>\n",
       "      <th>0</th>\n",
       "      <td>589</td>\n",
       "      <td>Jhabua</td>\n",
       "      <td>Jhabua</td>\n",
       "      <td>Cotton</td>\n",
       "      <td>Desi</td>\n",
       "      <td>FAQ</td>\n",
       "      <td>4800.0</td>\n",
       "      <td>4900.0</td>\n",
       "      <td>4850.0</td>\n",
       "      <td>2020-01-01</td>\n",
       "    </tr>\n",
       "    <tr>\n",
       "      <th>1</th>\n",
       "      <td>590</td>\n",
       "      <td>Jhabua</td>\n",
       "      <td>Jhabua</td>\n",
       "      <td>Cotton</td>\n",
       "      <td>DCH-32 (Ginned)</td>\n",
       "      <td>FAQ</td>\n",
       "      <td>5800.0</td>\n",
       "      <td>5900.0</td>\n",
       "      <td>5850.0</td>\n",
       "      <td>2020-01-01</td>\n",
       "    </tr>\n",
       "    <tr>\n",
       "      <th>2</th>\n",
       "      <td>992</td>\n",
       "      <td>Dhar</td>\n",
       "      <td>Manawar</td>\n",
       "      <td>Cotton</td>\n",
       "      <td>Other</td>\n",
       "      <td>FAQ</td>\n",
       "      <td>4800.0</td>\n",
       "      <td>5300.0</td>\n",
       "      <td>5150.0</td>\n",
       "      <td>2020-01-01</td>\n",
       "    </tr>\n",
       "    <tr>\n",
       "      <th>3</th>\n",
       "      <td>1268</td>\n",
       "      <td>Badwani</td>\n",
       "      <td>Sendhwa</td>\n",
       "      <td>Cotton</td>\n",
       "      <td>H4</td>\n",
       "      <td>FAQ</td>\n",
       "      <td>4400.0</td>\n",
       "      <td>5401.0</td>\n",
       "      <td>4911.0</td>\n",
       "      <td>2020-01-01</td>\n",
       "    </tr>\n",
       "    <tr>\n",
       "      <th>4</th>\n",
       "      <td>2222</td>\n",
       "      <td>Harda</td>\n",
       "      <td>Harda</td>\n",
       "      <td>Lentil (Masur)(Whole)</td>\n",
       "      <td>Kala Masoor New</td>\n",
       "      <td>FAQ</td>\n",
       "      <td>3400.0</td>\n",
       "      <td>3400.0</td>\n",
       "      <td>3400.0</td>\n",
       "      <td>2020-01-01</td>\n",
       "    </tr>\n",
       "    <tr>\n",
       "      <th>...</th>\n",
       "      <td>...</td>\n",
       "      <td>...</td>\n",
       "      <td>...</td>\n",
       "      <td>...</td>\n",
       "      <td>...</td>\n",
       "      <td>...</td>\n",
       "      <td>...</td>\n",
       "      <td>...</td>\n",
       "      <td>...</td>\n",
       "      <td>...</td>\n",
       "    </tr>\n",
       "    <tr>\n",
       "      <th>266377</th>\n",
       "      <td>26248</td>\n",
       "      <td>Ujjain</td>\n",
       "      <td>Ujjain</td>\n",
       "      <td>Wheat</td>\n",
       "      <td>Lokwan</td>\n",
       "      <td>FAQ</td>\n",
       "      <td>2300.0</td>\n",
       "      <td>3150.0</td>\n",
       "      <td>2550.0</td>\n",
       "      <td>2022-12-31</td>\n",
       "    </tr>\n",
       "    <tr>\n",
       "      <th>266378</th>\n",
       "      <td>26249</td>\n",
       "      <td>Ujjain</td>\n",
       "      <td>Ujjain</td>\n",
       "      <td>Wheat</td>\n",
       "      <td>Other</td>\n",
       "      <td>FAQ</td>\n",
       "      <td>2491.0</td>\n",
       "      <td>2809.0</td>\n",
       "      <td>2650.0</td>\n",
       "      <td>2022-12-31</td>\n",
       "    </tr>\n",
       "    <tr>\n",
       "      <th>266379</th>\n",
       "      <td>26621</td>\n",
       "      <td>Ujjain</td>\n",
       "      <td>Unhel</td>\n",
       "      <td>Wheat</td>\n",
       "      <td>Lok -1 (Nilami Rate)</td>\n",
       "      <td>FAQ</td>\n",
       "      <td>2532.0</td>\n",
       "      <td>2799.0</td>\n",
       "      <td>2799.0</td>\n",
       "      <td>2022-12-31</td>\n",
       "    </tr>\n",
       "    <tr>\n",
       "      <th>266380</th>\n",
       "      <td>26698</td>\n",
       "      <td>Vidisha</td>\n",
       "      <td>Vidisha</td>\n",
       "      <td>Wheat</td>\n",
       "      <td>Sharbati</td>\n",
       "      <td>FAQ</td>\n",
       "      <td>2595.0</td>\n",
       "      <td>3065.0</td>\n",
       "      <td>2595.0</td>\n",
       "      <td>2022-12-31</td>\n",
       "    </tr>\n",
       "    <tr>\n",
       "      <th>266381</th>\n",
       "      <td>26699</td>\n",
       "      <td>Vidisha</td>\n",
       "      <td>Vidisha</td>\n",
       "      <td>Wheat</td>\n",
       "      <td>Other</td>\n",
       "      <td>FAQ</td>\n",
       "      <td>2355.0</td>\n",
       "      <td>2539.0</td>\n",
       "      <td>2441.0</td>\n",
       "      <td>2022-12-31</td>\n",
       "    </tr>\n",
       "  </tbody>\n",
       "</table>\n",
       "<p>266382 rows × 10 columns</p>\n",
       "</div>"
      ],
      "text/plain": [
       "        Sl no. District Name Market Name              Commodity  \\\n",
       "0          589        Jhabua      Jhabua                 Cotton   \n",
       "1          590        Jhabua      Jhabua                 Cotton   \n",
       "2          992          Dhar     Manawar                 Cotton   \n",
       "3         1268       Badwani     Sendhwa                 Cotton   \n",
       "4         2222         Harda       Harda  Lentil (Masur)(Whole)   \n",
       "...        ...           ...         ...                    ...   \n",
       "266377   26248        Ujjain      Ujjain                  Wheat   \n",
       "266378   26249        Ujjain      Ujjain                  Wheat   \n",
       "266379   26621        Ujjain       Unhel                  Wheat   \n",
       "266380   26698       Vidisha     Vidisha                  Wheat   \n",
       "266381   26699       Vidisha     Vidisha                  Wheat   \n",
       "\n",
       "                     Variety Grade  Min Price (Rs./Quintal)  \\\n",
       "0                       Desi   FAQ                   4800.0   \n",
       "1            DCH-32 (Ginned)   FAQ                   5800.0   \n",
       "2                      Other   FAQ                   4800.0   \n",
       "3                         H4   FAQ                   4400.0   \n",
       "4            Kala Masoor New   FAQ                   3400.0   \n",
       "...                      ...   ...                      ...   \n",
       "266377                Lokwan   FAQ                   2300.0   \n",
       "266378                 Other   FAQ                   2491.0   \n",
       "266379  Lok -1 (Nilami Rate)   FAQ                   2532.0   \n",
       "266380              Sharbati   FAQ                   2595.0   \n",
       "266381                 Other   FAQ                   2355.0   \n",
       "\n",
       "        Max Price (Rs./Quintal)  Modal Price (Rs./Quintal)  Price Date  \n",
       "0                        4900.0                     4850.0  2020-01-01  \n",
       "1                        5900.0                     5850.0  2020-01-01  \n",
       "2                        5300.0                     5150.0  2020-01-01  \n",
       "3                        5401.0                     4911.0  2020-01-01  \n",
       "4                        3400.0                     3400.0  2020-01-01  \n",
       "...                         ...                        ...         ...  \n",
       "266377                   3150.0                     2550.0  2022-12-31  \n",
       "266378                   2809.0                     2650.0  2022-12-31  \n",
       "266379                   2799.0                     2799.0  2022-12-31  \n",
       "266380                   3065.0                     2595.0  2022-12-31  \n",
       "266381                   2539.0                     2441.0  2022-12-31  \n",
       "\n",
       "[266382 rows x 10 columns]"
      ]
     },
     "execution_count": 3,
     "metadata": {},
     "output_type": "execute_result"
    }
   ],
   "source": [
    "df = pd.read_csv('dataset/dataset_final.csv')\n",
    "df"
   ]
  },
  {
   "cell_type": "code",
   "execution_count": 4,
   "metadata": {},
   "outputs": [
    {
     "name": "stdout",
     "output_type": "stream",
     "text": [
      "<class 'pandas.core.frame.DataFrame'>\n",
      "RangeIndex: 266382 entries, 0 to 266381\n",
      "Data columns (total 10 columns):\n",
      " #   Column                     Non-Null Count   Dtype  \n",
      "---  ------                     --------------   -----  \n",
      " 0   Sl no.                     266382 non-null  int64  \n",
      " 1   District Name              266382 non-null  object \n",
      " 2   Market Name                266382 non-null  object \n",
      " 3   Commodity                  266382 non-null  object \n",
      " 4   Variety                    266382 non-null  object \n",
      " 5   Grade                      266382 non-null  object \n",
      " 6   Min Price (Rs./Quintal)    266382 non-null  float64\n",
      " 7   Max Price (Rs./Quintal)    266382 non-null  float64\n",
      " 8   Modal Price (Rs./Quintal)  266382 non-null  float64\n",
      " 9   Price Date                 266382 non-null  object \n",
      "dtypes: float64(3), int64(1), object(6)\n",
      "memory usage: 20.3+ MB\n"
     ]
    }
   ],
   "source": [
    "df.info()"
   ]
  },
  {
   "cell_type": "code",
   "execution_count": 5,
   "metadata": {},
   "outputs": [
    {
     "data": {
      "text/plain": [
       "Sl no.                       0\n",
       "District Name                0\n",
       "Market Name                  0\n",
       "Commodity                    0\n",
       "Variety                      0\n",
       "Grade                        0\n",
       "Min Price (Rs./Quintal)      0\n",
       "Max Price (Rs./Quintal)      0\n",
       "Modal Price (Rs./Quintal)    0\n",
       "Price Date                   0\n",
       "dtype: int64"
      ]
     },
     "execution_count": 5,
     "metadata": {},
     "output_type": "execute_result"
    }
   ],
   "source": [
    "df.isnull().sum()"
   ]
  },
  {
   "cell_type": "code",
   "execution_count": 6,
   "metadata": {},
   "outputs": [
    {
     "data": {
      "text/plain": [
       "Index(['Sl no.', 'District Name', 'Market Name', 'Commodity', 'Variety',\n",
       "       'Grade', 'Min Price (Rs./Quintal)', 'Max Price (Rs./Quintal)',\n",
       "       'Modal Price (Rs./Quintal)', 'Price Date'],\n",
       "      dtype='object')"
      ]
     },
     "execution_count": 6,
     "metadata": {},
     "output_type": "execute_result"
    }
   ],
   "source": [
    "df.columns"
   ]
  },
  {
   "attachments": {},
   "cell_type": "markdown",
   "metadata": {},
   "source": [
    "Pre-processing of Dataset"
   ]
  },
  {
   "cell_type": "code",
   "execution_count": 7,
   "metadata": {},
   "outputs": [
    {
     "data": {
      "text/html": [
       "<div>\n",
       "<style scoped>\n",
       "    .dataframe tbody tr th:only-of-type {\n",
       "        vertical-align: middle;\n",
       "    }\n",
       "\n",
       "    .dataframe tbody tr th {\n",
       "        vertical-align: top;\n",
       "    }\n",
       "\n",
       "    .dataframe thead th {\n",
       "        text-align: right;\n",
       "    }\n",
       "</style>\n",
       "<table border=\"1\" class=\"dataframe\">\n",
       "  <thead>\n",
       "    <tr style=\"text-align: right;\">\n",
       "      <th></th>\n",
       "      <th>Market Name</th>\n",
       "      <th>Commodity</th>\n",
       "      <th>Variety</th>\n",
       "      <th>Modal Price (Rs./Quintal)</th>\n",
       "      <th>Price Date</th>\n",
       "    </tr>\n",
       "  </thead>\n",
       "  <tbody>\n",
       "    <tr>\n",
       "      <th>0</th>\n",
       "      <td>Jhabua</td>\n",
       "      <td>Cotton</td>\n",
       "      <td>Desi</td>\n",
       "      <td>4850.0</td>\n",
       "      <td>2020-01-01</td>\n",
       "    </tr>\n",
       "    <tr>\n",
       "      <th>1</th>\n",
       "      <td>Jhabua</td>\n",
       "      <td>Cotton</td>\n",
       "      <td>DCH-32 (Ginned)</td>\n",
       "      <td>5850.0</td>\n",
       "      <td>2020-01-01</td>\n",
       "    </tr>\n",
       "    <tr>\n",
       "      <th>2</th>\n",
       "      <td>Manawar</td>\n",
       "      <td>Cotton</td>\n",
       "      <td>Other</td>\n",
       "      <td>5150.0</td>\n",
       "      <td>2020-01-01</td>\n",
       "    </tr>\n",
       "    <tr>\n",
       "      <th>3</th>\n",
       "      <td>Sendhwa</td>\n",
       "      <td>Cotton</td>\n",
       "      <td>H4</td>\n",
       "      <td>4911.0</td>\n",
       "      <td>2020-01-01</td>\n",
       "    </tr>\n",
       "    <tr>\n",
       "      <th>4</th>\n",
       "      <td>Harda</td>\n",
       "      <td>Lentil (Masur)(Whole)</td>\n",
       "      <td>Kala Masoor New</td>\n",
       "      <td>3400.0</td>\n",
       "      <td>2020-01-01</td>\n",
       "    </tr>\n",
       "    <tr>\n",
       "      <th>...</th>\n",
       "      <td>...</td>\n",
       "      <td>...</td>\n",
       "      <td>...</td>\n",
       "      <td>...</td>\n",
       "      <td>...</td>\n",
       "    </tr>\n",
       "    <tr>\n",
       "      <th>266377</th>\n",
       "      <td>Ujjain</td>\n",
       "      <td>Wheat</td>\n",
       "      <td>Lokwan</td>\n",
       "      <td>2550.0</td>\n",
       "      <td>2022-12-31</td>\n",
       "    </tr>\n",
       "    <tr>\n",
       "      <th>266378</th>\n",
       "      <td>Ujjain</td>\n",
       "      <td>Wheat</td>\n",
       "      <td>Other</td>\n",
       "      <td>2650.0</td>\n",
       "      <td>2022-12-31</td>\n",
       "    </tr>\n",
       "    <tr>\n",
       "      <th>266379</th>\n",
       "      <td>Unhel</td>\n",
       "      <td>Wheat</td>\n",
       "      <td>Lok -1 (Nilami Rate)</td>\n",
       "      <td>2799.0</td>\n",
       "      <td>2022-12-31</td>\n",
       "    </tr>\n",
       "    <tr>\n",
       "      <th>266380</th>\n",
       "      <td>Vidisha</td>\n",
       "      <td>Wheat</td>\n",
       "      <td>Sharbati</td>\n",
       "      <td>2595.0</td>\n",
       "      <td>2022-12-31</td>\n",
       "    </tr>\n",
       "    <tr>\n",
       "      <th>266381</th>\n",
       "      <td>Vidisha</td>\n",
       "      <td>Wheat</td>\n",
       "      <td>Other</td>\n",
       "      <td>2441.0</td>\n",
       "      <td>2022-12-31</td>\n",
       "    </tr>\n",
       "  </tbody>\n",
       "</table>\n",
       "<p>266382 rows × 5 columns</p>\n",
       "</div>"
      ],
      "text/plain": [
       "       Market Name              Commodity               Variety  \\\n",
       "0           Jhabua                 Cotton                  Desi   \n",
       "1           Jhabua                 Cotton       DCH-32 (Ginned)   \n",
       "2          Manawar                 Cotton                 Other   \n",
       "3          Sendhwa                 Cotton                    H4   \n",
       "4            Harda  Lentil (Masur)(Whole)       Kala Masoor New   \n",
       "...            ...                    ...                   ...   \n",
       "266377      Ujjain                  Wheat                Lokwan   \n",
       "266378      Ujjain                  Wheat                 Other   \n",
       "266379       Unhel                  Wheat  Lok -1 (Nilami Rate)   \n",
       "266380     Vidisha                  Wheat              Sharbati   \n",
       "266381     Vidisha                  Wheat                 Other   \n",
       "\n",
       "        Modal Price (Rs./Quintal)  Price Date  \n",
       "0                          4850.0  2020-01-01  \n",
       "1                          5850.0  2020-01-01  \n",
       "2                          5150.0  2020-01-01  \n",
       "3                          4911.0  2020-01-01  \n",
       "4                          3400.0  2020-01-01  \n",
       "...                           ...         ...  \n",
       "266377                     2550.0  2022-12-31  \n",
       "266378                     2650.0  2022-12-31  \n",
       "266379                     2799.0  2022-12-31  \n",
       "266380                     2595.0  2022-12-31  \n",
       "266381                     2441.0  2022-12-31  \n",
       "\n",
       "[266382 rows x 5 columns]"
      ]
     },
     "execution_count": 7,
     "metadata": {},
     "output_type": "execute_result"
    }
   ],
   "source": [
    "required_data = df[['Market Name', 'Commodity', 'Variety', 'Modal Price (Rs./Quintal)', 'Price Date']]\n",
    "required_data"
   ]
  },
  {
   "attachments": {},
   "cell_type": "markdown",
   "metadata": {},
   "source": [
    "Normalizing the 'Modal Price' Column"
   ]
  },
  {
   "cell_type": "code",
   "execution_count": 8,
   "metadata": {},
   "outputs": [],
   "source": [
    "scaler = MinMaxScaler(feature_range=(0,1))\n",
    "required_data['Modal Price (Rs./Quintal)'] = scaler.fit_transform(required_data['Modal Price (Rs./Quintal)'].values.reshape(-1,1))"
   ]
  },
  {
   "attachments": {},
   "cell_type": "markdown",
   "metadata": {},
   "source": [
    "Encoding Market Name, Variety, and Commodity values"
   ]
  },
  {
   "cell_type": "code",
   "execution_count": 9,
   "metadata": {},
   "outputs": [],
   "source": [
    "encode_market = LabelEncoder()\n",
    "encode_variety = LabelEncoder()\n",
    "encode_commodity = LabelEncoder()\n",
    "required_data['Market Name'] = encode_market.fit_transform(required_data['Market Name'].values)\n",
    "required_data['Variety'] = encode_variety.fit_transform(required_data['Variety'].values) \n",
    "required_data['Commodity'] = encode_commodity.fit_transform(required_data['Commodity'].values)"
   ]
  },
  {
   "attachments": {},
   "cell_type": "markdown",
   "metadata": {},
   "source": [
    "Segregating the dependent and independent variables"
   ]
  },
  {
   "cell_type": "code",
   "execution_count": 10,
   "metadata": {},
   "outputs": [],
   "source": [
    "x = required_data[['Market Name', 'Commodity', 'Variety', 'Price Date']]\n",
    "y = required_data[['Modal Price (Rs./Quintal)']]"
   ]
  },
  {
   "cell_type": "code",
   "execution_count": 11,
   "metadata": {},
   "outputs": [],
   "source": [
    "y = required_data['Modal Price (Rs./Quintal)'].values\n",
    "X_market = required_data['Market Name'].values\n",
    "X_variety = required_data['Variety'].values\n",
    "X_commodity = required_data['Commodity'].values\n",
    "X_date = pd.to_datetime(required_data['Price Date']).astype(int) // 10**9"
   ]
  },
  {
   "cell_type": "code",
   "execution_count": 12,
   "metadata": {},
   "outputs": [
    {
     "data": {
      "text/plain": [
       "array([[       106,          1,         13, 1577836800],\n",
       "       [       106,          1,          7, 1577836800],\n",
       "       [       152,          1,         41, 1577836800],\n",
       "       ...,\n",
       "       [       255,          8,         25, 1672444800],\n",
       "       [       257,          8,         48, 1672444800],\n",
       "       [       257,          8,         41, 1672444800]])"
      ]
     },
     "execution_count": 12,
     "metadata": {},
     "output_type": "execute_result"
    }
   ],
   "source": [
    "X = np.column_stack((X_market, X_commodity, X_variety, X_date))\n",
    "X"
   ]
  },
  {
   "cell_type": "code",
   "execution_count": 13,
   "metadata": {},
   "outputs": [
    {
     "data": {
      "text/plain": [
       "array([0.34140732, 0.41328254, 0.36296988, ..., 0.19399123, 0.17932869,\n",
       "       0.1682599 ])"
      ]
     },
     "execution_count": 13,
     "metadata": {},
     "output_type": "execute_result"
    }
   ],
   "source": [
    "y"
   ]
  },
  {
   "attachments": {},
   "cell_type": "markdown",
   "metadata": {},
   "source": [
    "Train-Test Split"
   ]
  },
  {
   "cell_type": "code",
   "execution_count": 14,
   "metadata": {},
   "outputs": [],
   "source": [
    "X_train, X_test, y_train, y_test = train_test_split(X, y, test_size=0.2, random_state=42)"
   ]
  },
  {
   "attachments": {},
   "cell_type": "markdown",
   "metadata": {},
   "source": [
    "Random Forest Model"
   ]
  },
  {
   "cell_type": "code",
   "execution_count": 15,
   "metadata": {},
   "outputs": [
    {
     "data": {
      "text/html": [
       "<style>#sk-container-id-1 {color: black;background-color: white;}#sk-container-id-1 pre{padding: 0;}#sk-container-id-1 div.sk-toggleable {background-color: white;}#sk-container-id-1 label.sk-toggleable__label {cursor: pointer;display: block;width: 100%;margin-bottom: 0;padding: 0.3em;box-sizing: border-box;text-align: center;}#sk-container-id-1 label.sk-toggleable__label-arrow:before {content: \"▸\";float: left;margin-right: 0.25em;color: #696969;}#sk-container-id-1 label.sk-toggleable__label-arrow:hover:before {color: black;}#sk-container-id-1 div.sk-estimator:hover label.sk-toggleable__label-arrow:before {color: black;}#sk-container-id-1 div.sk-toggleable__content {max-height: 0;max-width: 0;overflow: hidden;text-align: left;background-color: #f0f8ff;}#sk-container-id-1 div.sk-toggleable__content pre {margin: 0.2em;color: black;border-radius: 0.25em;background-color: #f0f8ff;}#sk-container-id-1 input.sk-toggleable__control:checked~div.sk-toggleable__content {max-height: 200px;max-width: 100%;overflow: auto;}#sk-container-id-1 input.sk-toggleable__control:checked~label.sk-toggleable__label-arrow:before {content: \"▾\";}#sk-container-id-1 div.sk-estimator input.sk-toggleable__control:checked~label.sk-toggleable__label {background-color: #d4ebff;}#sk-container-id-1 div.sk-label input.sk-toggleable__control:checked~label.sk-toggleable__label {background-color: #d4ebff;}#sk-container-id-1 input.sk-hidden--visually {border: 0;clip: rect(1px 1px 1px 1px);clip: rect(1px, 1px, 1px, 1px);height: 1px;margin: -1px;overflow: hidden;padding: 0;position: absolute;width: 1px;}#sk-container-id-1 div.sk-estimator {font-family: monospace;background-color: #f0f8ff;border: 1px dotted black;border-radius: 0.25em;box-sizing: border-box;margin-bottom: 0.5em;}#sk-container-id-1 div.sk-estimator:hover {background-color: #d4ebff;}#sk-container-id-1 div.sk-parallel-item::after {content: \"\";width: 100%;border-bottom: 1px solid gray;flex-grow: 1;}#sk-container-id-1 div.sk-label:hover label.sk-toggleable__label {background-color: #d4ebff;}#sk-container-id-1 div.sk-serial::before {content: \"\";position: absolute;border-left: 1px solid gray;box-sizing: border-box;top: 0;bottom: 0;left: 50%;z-index: 0;}#sk-container-id-1 div.sk-serial {display: flex;flex-direction: column;align-items: center;background-color: white;padding-right: 0.2em;padding-left: 0.2em;position: relative;}#sk-container-id-1 div.sk-item {position: relative;z-index: 1;}#sk-container-id-1 div.sk-parallel {display: flex;align-items: stretch;justify-content: center;background-color: white;position: relative;}#sk-container-id-1 div.sk-item::before, #sk-container-id-1 div.sk-parallel-item::before {content: \"\";position: absolute;border-left: 1px solid gray;box-sizing: border-box;top: 0;bottom: 0;left: 50%;z-index: -1;}#sk-container-id-1 div.sk-parallel-item {display: flex;flex-direction: column;z-index: 1;position: relative;background-color: white;}#sk-container-id-1 div.sk-parallel-item:first-child::after {align-self: flex-end;width: 50%;}#sk-container-id-1 div.sk-parallel-item:last-child::after {align-self: flex-start;width: 50%;}#sk-container-id-1 div.sk-parallel-item:only-child::after {width: 0;}#sk-container-id-1 div.sk-dashed-wrapped {border: 1px dashed gray;margin: 0 0.4em 0.5em 0.4em;box-sizing: border-box;padding-bottom: 0.4em;background-color: white;}#sk-container-id-1 div.sk-label label {font-family: monospace;font-weight: bold;display: inline-block;line-height: 1.2em;}#sk-container-id-1 div.sk-label-container {text-align: center;}#sk-container-id-1 div.sk-container {/* jupyter's `normalize.less` sets `[hidden] { display: none; }` but bootstrap.min.css set `[hidden] { display: none !important; }` so we also need the `!important` here to be able to override the default hidden behavior on the sphinx rendered scikit-learn.org. See: https://github.com/scikit-learn/scikit-learn/issues/21755 */display: inline-block !important;position: relative;}#sk-container-id-1 div.sk-text-repr-fallback {display: none;}</style><div id=\"sk-container-id-1\" class=\"sk-top-container\"><div class=\"sk-text-repr-fallback\"><pre>RandomForestRegressor(max_depth=500, random_state=2)</pre><b>In a Jupyter environment, please rerun this cell to show the HTML representation or trust the notebook. <br />On GitHub, the HTML representation is unable to render, please try loading this page with nbviewer.org.</b></div><div class=\"sk-container\" hidden><div class=\"sk-item\"><div class=\"sk-estimator sk-toggleable\"><input class=\"sk-toggleable__control sk-hidden--visually\" id=\"sk-estimator-id-1\" type=\"checkbox\" checked><label for=\"sk-estimator-id-1\" class=\"sk-toggleable__label sk-toggleable__label-arrow\">RandomForestRegressor</label><div class=\"sk-toggleable__content\"><pre>RandomForestRegressor(max_depth=500, random_state=2)</pre></div></div></div></div></div>"
      ],
      "text/plain": [
       "RandomForestRegressor(max_depth=500, random_state=2)"
      ]
     },
     "execution_count": 15,
     "metadata": {},
     "output_type": "execute_result"
    }
   ],
   "source": [
    "model = RandomForestRegressor(max_depth=500, random_state=2)\n",
    "model.fit(X_train,y_train)"
   ]
  },
  {
   "cell_type": "code",
   "execution_count": 16,
   "metadata": {},
   "outputs": [],
   "source": [
    "# ---- Predicting the test values ----#\n",
    "y_pred = model.predict(X_test)"
   ]
  },
  {
   "cell_type": "code",
   "execution_count": 17,
   "metadata": {},
   "outputs": [],
   "source": [
    "# pd_y_pred = pd.DataFrame(y_pred)\n",
    "# unscaled_pred = scaler.inverse_transform(pd_y_pred)\n",
    "# unscaled_pred"
   ]
  },
  {
   "cell_type": "code",
   "execution_count": null,
   "metadata": {},
   "outputs": [],
   "source": [
    "# pd_y_test = pd.DataFrame(y_test)\n",
    "# unscaled_test = scaler.inverse_transform(pd_y_test)\n",
    "# unscaled_test"
   ]
  },
  {
   "cell_type": "code",
   "execution_count": 18,
   "metadata": {},
   "outputs": [
    {
     "data": {
      "text/plain": [
       "0.019885796140293562"
      ]
     },
     "execution_count": 18,
     "metadata": {},
     "output_type": "execute_result"
    }
   ],
   "source": [
    "mse = mean_squared_error(y_test, y_pred, squared=False)\n",
    "mse"
   ]
  },
  {
   "cell_type": "code",
   "execution_count": 19,
   "metadata": {},
   "outputs": [
    {
     "data": {
      "text/plain": [
       "0.9794405458852619"
      ]
     },
     "execution_count": 19,
     "metadata": {},
     "output_type": "execute_result"
    }
   ],
   "source": [
    "r2_score(y_test,y_pred)"
   ]
  }
 ],
 "metadata": {
  "kernelspec": {
   "display_name": "Python 3 (ipykernel)",
   "language": "python",
   "name": "python3"
  },
  "language_info": {
   "codemirror_mode": {
    "name": "ipython",
    "version": 3
   },
   "file_extension": ".py",
   "mimetype": "text/x-python",
   "name": "python",
   "nbconvert_exporter": "python",
   "pygments_lexer": "ipython3",
   "version": "3.10.4"
  },
  "orig_nbformat": 4
 },
 "nbformat": 4,
 "nbformat_minor": 2
}
