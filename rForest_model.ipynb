{
 "cells": [
  {
   "attachments": {},
   "cell_type": "markdown",
   "metadata": {},
   "source": [
    "Importing Libraries"
   ]
  },
  {
   "cell_type": "code",
   "execution_count": 1,
   "metadata": {
    "vscode": {
     "languageId": "python"
    }
   },
   "outputs": [],
   "source": [
    "import numpy as np\n",
    "import seaborn as sns\n",
    "import pandas as pd\n",
    "from sklearn.ensemble import RandomForestRegressor\n",
    "from sklearn.metrics import mean_absolute_error, mean_squared_error\n",
    "from sklearn.model_selection import train_test_split\n",
    "from sklearn.preprocessing import MinMaxScaler, LabelEncoder"
   ]
  },
  {
   "cell_type": "code",
   "execution_count": 2,
   "metadata": {
    "vscode": {
     "languageId": "python"
    }
   },
   "outputs": [
    {
     "data": {
      "text/html": [
       "<div>\n",
       "<style scoped>\n",
       "    .dataframe tbody tr th:only-of-type {\n",
       "        vertical-align: middle;\n",
       "    }\n",
       "\n",
       "    .dataframe tbody tr th {\n",
       "        vertical-align: top;\n",
       "    }\n",
       "\n",
       "    .dataframe thead th {\n",
       "        text-align: right;\n",
       "    }\n",
       "</style>\n",
       "<table border=\"1\" class=\"dataframe\">\n",
       "  <thead>\n",
       "    <tr style=\"text-align: right;\">\n",
       "      <th></th>\n",
       "      <th>Sl no.</th>\n",
       "      <th>District Name</th>\n",
       "      <th>Market Name</th>\n",
       "      <th>Commodity</th>\n",
       "      <th>Variety</th>\n",
       "      <th>Grade</th>\n",
       "      <th>Min Price (Rs./Quintal)</th>\n",
       "      <th>Max Price (Rs./Quintal)</th>\n",
       "      <th>Modal Price (Rs./Quintal)</th>\n",
       "      <th>Price Date</th>\n",
       "    </tr>\n",
       "  </thead>\n",
       "  <tbody>\n",
       "    <tr>\n",
       "      <th>0</th>\n",
       "      <td>1</td>\n",
       "      <td>Ratlam</td>\n",
       "      <td>A lot</td>\n",
       "      <td>Wheat</td>\n",
       "      <td>Lokwan</td>\n",
       "      <td>FAQ</td>\n",
       "      <td>1725.0</td>\n",
       "      <td>1800.0</td>\n",
       "      <td>1785.0</td>\n",
       "      <td>2020-06-30</td>\n",
       "    </tr>\n",
       "    <tr>\n",
       "      <th>1</th>\n",
       "      <td>2</td>\n",
       "      <td>Ratlam</td>\n",
       "      <td>A lot</td>\n",
       "      <td>Wheat</td>\n",
       "      <td>Lokwan</td>\n",
       "      <td>FAQ</td>\n",
       "      <td>1689.0</td>\n",
       "      <td>1810.0</td>\n",
       "      <td>1790.0</td>\n",
       "      <td>2020-06-29</td>\n",
       "    </tr>\n",
       "    <tr>\n",
       "      <th>2</th>\n",
       "      <td>3</td>\n",
       "      <td>Ratlam</td>\n",
       "      <td>A lot</td>\n",
       "      <td>Wheat</td>\n",
       "      <td>Lokwan</td>\n",
       "      <td>FAQ</td>\n",
       "      <td>1601.0</td>\n",
       "      <td>1761.0</td>\n",
       "      <td>1730.0</td>\n",
       "      <td>2020-06-25</td>\n",
       "    </tr>\n",
       "    <tr>\n",
       "      <th>3</th>\n",
       "      <td>4</td>\n",
       "      <td>Ratlam</td>\n",
       "      <td>A lot</td>\n",
       "      <td>Wheat</td>\n",
       "      <td>Lokwan</td>\n",
       "      <td>FAQ</td>\n",
       "      <td>1620.0</td>\n",
       "      <td>1731.0</td>\n",
       "      <td>1707.0</td>\n",
       "      <td>2020-06-23</td>\n",
       "    </tr>\n",
       "    <tr>\n",
       "      <th>4</th>\n",
       "      <td>5</td>\n",
       "      <td>Ratlam</td>\n",
       "      <td>A lot</td>\n",
       "      <td>Wheat</td>\n",
       "      <td>Lokwan</td>\n",
       "      <td>FAQ</td>\n",
       "      <td>1624.0</td>\n",
       "      <td>2010.0</td>\n",
       "      <td>1725.0</td>\n",
       "      <td>2020-06-22</td>\n",
       "    </tr>\n",
       "    <tr>\n",
       "      <th>...</th>\n",
       "      <td>...</td>\n",
       "      <td>...</td>\n",
       "      <td>...</td>\n",
       "      <td>...</td>\n",
       "      <td>...</td>\n",
       "      <td>...</td>\n",
       "      <td>...</td>\n",
       "      <td>...</td>\n",
       "      <td>...</td>\n",
       "      <td>...</td>\n",
       "    </tr>\n",
       "    <tr>\n",
       "      <th>123364</th>\n",
       "      <td>26997</td>\n",
       "      <td>Sheopur</td>\n",
       "      <td>Vijaypur</td>\n",
       "      <td>Wheat</td>\n",
       "      <td>Other</td>\n",
       "      <td>FAQ</td>\n",
       "      <td>1900.0</td>\n",
       "      <td>1950.0</td>\n",
       "      <td>1930.0</td>\n",
       "      <td>2022-07-11</td>\n",
       "    </tr>\n",
       "    <tr>\n",
       "      <th>123365</th>\n",
       "      <td>26998</td>\n",
       "      <td>Sheopur</td>\n",
       "      <td>Vijaypur</td>\n",
       "      <td>Wheat</td>\n",
       "      <td>Other</td>\n",
       "      <td>FAQ</td>\n",
       "      <td>1900.0</td>\n",
       "      <td>1950.0</td>\n",
       "      <td>1930.0</td>\n",
       "      <td>2022-07-09</td>\n",
       "    </tr>\n",
       "    <tr>\n",
       "      <th>123366</th>\n",
       "      <td>26999</td>\n",
       "      <td>Sheopur</td>\n",
       "      <td>Vijaypur</td>\n",
       "      <td>Wheat</td>\n",
       "      <td>Other</td>\n",
       "      <td>FAQ</td>\n",
       "      <td>1900.0</td>\n",
       "      <td>1960.0</td>\n",
       "      <td>1930.0</td>\n",
       "      <td>2022-07-08</td>\n",
       "    </tr>\n",
       "    <tr>\n",
       "      <th>123367</th>\n",
       "      <td>27000</td>\n",
       "      <td>Sheopur</td>\n",
       "      <td>Vijaypur</td>\n",
       "      <td>Wheat</td>\n",
       "      <td>Other</td>\n",
       "      <td>FAQ</td>\n",
       "      <td>1900.0</td>\n",
       "      <td>1950.0</td>\n",
       "      <td>1940.0</td>\n",
       "      <td>2022-07-07</td>\n",
       "    </tr>\n",
       "    <tr>\n",
       "      <th>123368</th>\n",
       "      <td>27001</td>\n",
       "      <td>Sheopur</td>\n",
       "      <td>Vijaypur</td>\n",
       "      <td>Wheat</td>\n",
       "      <td>Other</td>\n",
       "      <td>FAQ</td>\n",
       "      <td>1900.0</td>\n",
       "      <td>1950.0</td>\n",
       "      <td>1930.0</td>\n",
       "      <td>2022-07-06</td>\n",
       "    </tr>\n",
       "  </tbody>\n",
       "</table>\n",
       "<p>123369 rows × 10 columns</p>\n",
       "</div>"
      ],
      "text/plain": [
       "        Sl no. District Name Market Name Commodity Variety Grade  \\\n",
       "0            1        Ratlam       A lot     Wheat  Lokwan   FAQ   \n",
       "1            2        Ratlam       A lot     Wheat  Lokwan   FAQ   \n",
       "2            3        Ratlam       A lot     Wheat  Lokwan   FAQ   \n",
       "3            4        Ratlam       A lot     Wheat  Lokwan   FAQ   \n",
       "4            5        Ratlam       A lot     Wheat  Lokwan   FAQ   \n",
       "...        ...           ...         ...       ...     ...   ...   \n",
       "123364   26997       Sheopur    Vijaypur     Wheat   Other   FAQ   \n",
       "123365   26998       Sheopur    Vijaypur     Wheat   Other   FAQ   \n",
       "123366   26999       Sheopur    Vijaypur     Wheat   Other   FAQ   \n",
       "123367   27000       Sheopur    Vijaypur     Wheat   Other   FAQ   \n",
       "123368   27001       Sheopur    Vijaypur     Wheat   Other   FAQ   \n",
       "\n",
       "        Min Price (Rs./Quintal)  Max Price (Rs./Quintal)  \\\n",
       "0                        1725.0                   1800.0   \n",
       "1                        1689.0                   1810.0   \n",
       "2                        1601.0                   1761.0   \n",
       "3                        1620.0                   1731.0   \n",
       "4                        1624.0                   2010.0   \n",
       "...                         ...                      ...   \n",
       "123364                   1900.0                   1950.0   \n",
       "123365                   1900.0                   1950.0   \n",
       "123366                   1900.0                   1960.0   \n",
       "123367                   1900.0                   1950.0   \n",
       "123368                   1900.0                   1950.0   \n",
       "\n",
       "        Modal Price (Rs./Quintal)  Price Date  \n",
       "0                          1785.0  2020-06-30  \n",
       "1                          1790.0  2020-06-29  \n",
       "2                          1730.0  2020-06-25  \n",
       "3                          1707.0  2020-06-23  \n",
       "4                          1725.0  2020-06-22  \n",
       "...                           ...         ...  \n",
       "123364                     1930.0  2022-07-11  \n",
       "123365                     1930.0  2022-07-09  \n",
       "123366                     1930.0  2022-07-08  \n",
       "123367                     1940.0  2022-07-07  \n",
       "123368                     1930.0  2022-07-06  \n",
       "\n",
       "[123369 rows x 10 columns]"
      ]
     },
     "execution_count": 2,
     "metadata": {},
     "output_type": "execute_result"
    }
   ],
   "source": [
    "df = pd.read_csv('wheat.csv')\n",
    "df"
   ]
  },
  {
   "cell_type": "code",
   "execution_count": 3,
   "metadata": {
    "vscode": {
     "languageId": "python"
    }
   },
   "outputs": [
    {
     "name": "stdout",
     "output_type": "stream",
     "text": [
      "<class 'pandas.core.frame.DataFrame'>\n",
      "RangeIndex: 123369 entries, 0 to 123368\n",
      "Data columns (total 10 columns):\n",
      " #   Column                     Non-Null Count   Dtype  \n",
      "---  ------                     --------------   -----  \n",
      " 0   Sl no.                     123369 non-null  int64  \n",
      " 1   District Name              123369 non-null  object \n",
      " 2   Market Name                123369 non-null  object \n",
      " 3   Commodity                  123369 non-null  object \n",
      " 4   Variety                    123369 non-null  object \n",
      " 5   Grade                      123369 non-null  object \n",
      " 6   Min Price (Rs./Quintal)    123369 non-null  float64\n",
      " 7   Max Price (Rs./Quintal)    123369 non-null  float64\n",
      " 8   Modal Price (Rs./Quintal)  123369 non-null  float64\n",
      " 9   Price Date                 123369 non-null  object \n",
      "dtypes: float64(3), int64(1), object(6)\n",
      "memory usage: 9.4+ MB\n"
     ]
    }
   ],
   "source": [
    "df.info()"
   ]
  },
  {
   "cell_type": "code",
   "execution_count": 4,
   "metadata": {
    "vscode": {
     "languageId": "python"
    }
   },
   "outputs": [
    {
     "data": {
      "text/plain": [
       "Sl no.                       0\n",
       "District Name                0\n",
       "Market Name                  0\n",
       "Commodity                    0\n",
       "Variety                      0\n",
       "Grade                        0\n",
       "Min Price (Rs./Quintal)      0\n",
       "Max Price (Rs./Quintal)      0\n",
       "Modal Price (Rs./Quintal)    0\n",
       "Price Date                   0\n",
       "dtype: int64"
      ]
     },
     "execution_count": 4,
     "metadata": {},
     "output_type": "execute_result"
    }
   ],
   "source": [
    "df.isnull().sum()"
   ]
  },
  {
   "cell_type": "code",
   "execution_count": 5,
   "metadata": {
    "vscode": {
     "languageId": "python"
    }
   },
   "outputs": [
    {
     "data": {
      "text/plain": [
       "Index(['Sl no.', 'District Name', 'Market Name', 'Commodity', 'Variety',\n",
       "       'Grade', 'Min Price (Rs./Quintal)', 'Max Price (Rs./Quintal)',\n",
       "       'Modal Price (Rs./Quintal)', 'Price Date'],\n",
       "      dtype='object')"
      ]
     },
     "execution_count": 5,
     "metadata": {},
     "output_type": "execute_result"
    }
   ],
   "source": [
    "df.columns"
   ]
  },
  {
   "cell_type": "code",
   "execution_count": 6,
   "metadata": {
    "vscode": {
     "languageId": "python"
    }
   },
   "outputs": [
    {
     "data": {
      "text/html": [
       "<div>\n",
       "<style scoped>\n",
       "    .dataframe tbody tr th:only-of-type {\n",
       "        vertical-align: middle;\n",
       "    }\n",
       "\n",
       "    .dataframe tbody tr th {\n",
       "        vertical-align: top;\n",
       "    }\n",
       "\n",
       "    .dataframe thead th {\n",
       "        text-align: right;\n",
       "    }\n",
       "</style>\n",
       "<table border=\"1\" class=\"dataframe\">\n",
       "  <thead>\n",
       "    <tr style=\"text-align: right;\">\n",
       "      <th></th>\n",
       "      <th>Market Name</th>\n",
       "      <th>Variety</th>\n",
       "      <th>Modal Price (Rs./Quintal)</th>\n",
       "      <th>Price Date</th>\n",
       "    </tr>\n",
       "  </thead>\n",
       "  <tbody>\n",
       "    <tr>\n",
       "      <th>0</th>\n",
       "      <td>A lot</td>\n",
       "      <td>Lokwan</td>\n",
       "      <td>1785.0</td>\n",
       "      <td>2020-06-30</td>\n",
       "    </tr>\n",
       "    <tr>\n",
       "      <th>1</th>\n",
       "      <td>A lot</td>\n",
       "      <td>Lokwan</td>\n",
       "      <td>1790.0</td>\n",
       "      <td>2020-06-29</td>\n",
       "    </tr>\n",
       "    <tr>\n",
       "      <th>2</th>\n",
       "      <td>A lot</td>\n",
       "      <td>Lokwan</td>\n",
       "      <td>1730.0</td>\n",
       "      <td>2020-06-25</td>\n",
       "    </tr>\n",
       "    <tr>\n",
       "      <th>3</th>\n",
       "      <td>A lot</td>\n",
       "      <td>Lokwan</td>\n",
       "      <td>1707.0</td>\n",
       "      <td>2020-06-23</td>\n",
       "    </tr>\n",
       "    <tr>\n",
       "      <th>4</th>\n",
       "      <td>A lot</td>\n",
       "      <td>Lokwan</td>\n",
       "      <td>1725.0</td>\n",
       "      <td>2020-06-22</td>\n",
       "    </tr>\n",
       "    <tr>\n",
       "      <th>...</th>\n",
       "      <td>...</td>\n",
       "      <td>...</td>\n",
       "      <td>...</td>\n",
       "      <td>...</td>\n",
       "    </tr>\n",
       "    <tr>\n",
       "      <th>123364</th>\n",
       "      <td>Vijaypur</td>\n",
       "      <td>Other</td>\n",
       "      <td>1930.0</td>\n",
       "      <td>2022-07-11</td>\n",
       "    </tr>\n",
       "    <tr>\n",
       "      <th>123365</th>\n",
       "      <td>Vijaypur</td>\n",
       "      <td>Other</td>\n",
       "      <td>1930.0</td>\n",
       "      <td>2022-07-09</td>\n",
       "    </tr>\n",
       "    <tr>\n",
       "      <th>123366</th>\n",
       "      <td>Vijaypur</td>\n",
       "      <td>Other</td>\n",
       "      <td>1930.0</td>\n",
       "      <td>2022-07-08</td>\n",
       "    </tr>\n",
       "    <tr>\n",
       "      <th>123367</th>\n",
       "      <td>Vijaypur</td>\n",
       "      <td>Other</td>\n",
       "      <td>1940.0</td>\n",
       "      <td>2022-07-07</td>\n",
       "    </tr>\n",
       "    <tr>\n",
       "      <th>123368</th>\n",
       "      <td>Vijaypur</td>\n",
       "      <td>Other</td>\n",
       "      <td>1930.0</td>\n",
       "      <td>2022-07-06</td>\n",
       "    </tr>\n",
       "  </tbody>\n",
       "</table>\n",
       "<p>123369 rows × 4 columns</p>\n",
       "</div>"
      ],
      "text/plain": [
       "       Market Name Variety  Modal Price (Rs./Quintal)  Price Date\n",
       "0            A lot  Lokwan                     1785.0  2020-06-30\n",
       "1            A lot  Lokwan                     1790.0  2020-06-29\n",
       "2            A lot  Lokwan                     1730.0  2020-06-25\n",
       "3            A lot  Lokwan                     1707.0  2020-06-23\n",
       "4            A lot  Lokwan                     1725.0  2020-06-22\n",
       "...            ...     ...                        ...         ...\n",
       "123364    Vijaypur   Other                     1930.0  2022-07-11\n",
       "123365    Vijaypur   Other                     1930.0  2022-07-09\n",
       "123366    Vijaypur   Other                     1930.0  2022-07-08\n",
       "123367    Vijaypur   Other                     1940.0  2022-07-07\n",
       "123368    Vijaypur   Other                     1930.0  2022-07-06\n",
       "\n",
       "[123369 rows x 4 columns]"
      ]
     },
     "execution_count": 6,
     "metadata": {},
     "output_type": "execute_result"
    }
   ],
   "source": [
    "required_data = df[['Market Name', 'Variety', 'Modal Price (Rs./Quintal)', 'Price Date']]\n",
    "required_data"
   ]
  },
  {
   "cell_type": "code",
   "execution_count": 7,
   "metadata": {
    "vscode": {
     "languageId": "python"
    }
   },
   "outputs": [
    {
     "name": "stderr",
     "output_type": "stream",
     "text": [
      "/tmp/ipykernel_25159/3334116397.py:2: SettingWithCopyWarning: \n",
      "A value is trying to be set on a copy of a slice from a DataFrame.\n",
      "Try using .loc[row_indexer,col_indexer] = value instead\n",
      "\n",
      "See the caveats in the documentation: https://pandas.pydata.org/pandas-docs/stable/user_guide/indexing.html#returning-a-view-versus-a-copy\n",
      "  required_data['Modal Price (Rs./Quintal)'] = scaler.fit_transform(required_data['Modal Price (Rs./Quintal)'].values.reshape(-1,1))\n"
     ]
    }
   ],
   "source": [
    "scaler = MinMaxScaler(feature_range=(0,1))\n",
    "required_data['Modal Price (Rs./Quintal)'] = scaler.fit_transform(required_data['Modal Price (Rs./Quintal)'].values.reshape(-1,1))"
   ]
  },
  {
   "cell_type": "code",
   "execution_count": 8,
   "metadata": {
    "vscode": {
     "languageId": "python"
    }
   },
   "outputs": [
    {
     "name": "stderr",
     "output_type": "stream",
     "text": [
      "/tmp/ipykernel_25159/1902339257.py:3: SettingWithCopyWarning: \n",
      "A value is trying to be set on a copy of a slice from a DataFrame.\n",
      "Try using .loc[row_indexer,col_indexer] = value instead\n",
      "\n",
      "See the caveats in the documentation: https://pandas.pydata.org/pandas-docs/stable/user_guide/indexing.html#returning-a-view-versus-a-copy\n",
      "  required_data['Market Name'] = encode_market.fit_transform(required_data['Market Name'].values)\n",
      "/tmp/ipykernel_25159/1902339257.py:4: SettingWithCopyWarning: \n",
      "A value is trying to be set on a copy of a slice from a DataFrame.\n",
      "Try using .loc[row_indexer,col_indexer] = value instead\n",
      "\n",
      "See the caveats in the documentation: https://pandas.pydata.org/pandas-docs/stable/user_guide/indexing.html#returning-a-view-versus-a-copy\n",
      "  required_data['Variety'] = encode_variety.fit_transform(required_data['Variety'].values)\n"
     ]
    }
   ],
   "source": [
    "encode_market = LabelEncoder()\n",
    "encode_variety = LabelEncoder()\n",
    "required_data['Market Name'] = encode_market.fit_transform(required_data['Market Name'].values)\n",
    "required_data['Variety'] = encode_variety.fit_transform(required_data['Variety'].values) "
   ]
  },
  {
   "cell_type": "code",
   "execution_count": 9,
   "metadata": {
    "vscode": {
     "languageId": "python"
    }
   },
   "outputs": [],
   "source": [
    "x = required_data[['Market Name', 'Variety', 'Price Date']]\n",
    "y = required_data[['Modal Price (Rs./Quintal)']]"
   ]
  },
  {
   "cell_type": "code",
   "execution_count": 10,
   "metadata": {
    "vscode": {
     "languageId": "python"
    }
   },
   "outputs": [],
   "source": [
    "y = required_data['Modal Price (Rs./Quintal)'].values\n",
    "X_market = required_data['Market Name'].values\n",
    "X_variety = required_data['Variety'].values\n",
    "X_date = pd.to_datetime(required_data['Price Date']).astype(int) // 10**9"
   ]
  },
  {
   "cell_type": "code",
   "execution_count": 11,
   "metadata": {
    "vscode": {
     "languageId": "python"
    }
   },
   "outputs": [
    {
     "data": {
      "text/plain": [
       "array([[         0,          8, 1593475200],\n",
       "       [         0,          8, 1593388800],\n",
       "       [         0,          8, 1593043200],\n",
       "       ...,\n",
       "       [       255,         18, 1657238400],\n",
       "       [       255,         18, 1657152000],\n",
       "       [       255,         18, 1657065600]])"
      ]
     },
     "execution_count": 11,
     "metadata": {},
     "output_type": "execute_result"
    }
   ],
   "source": [
    "X = np.column_stack((X_market, X_variety, X_date))\n",
    "X"
   ]
  },
  {
   "cell_type": "code",
   "execution_count": 12,
   "metadata": {
    "vscode": {
     "languageId": "python"
    }
   },
   "outputs": [
    {
     "data": {
      "text/plain": [
       "array([[0.17925532],\n",
       "       [0.17978723],\n",
       "       [0.17340426],\n",
       "       ...,\n",
       "       [0.19468085],\n",
       "       [0.19574468],\n",
       "       [0.19468085]])"
      ]
     },
     "execution_count": 12,
     "metadata": {},
     "output_type": "execute_result"
    }
   ],
   "source": [
    "y = y.reshape(-1, 1)\n",
    "y"
   ]
  },
  {
   "cell_type": "code",
   "execution_count": 13,
   "metadata": {
    "vscode": {
     "languageId": "python"
    }
   },
   "outputs": [],
   "source": [
    "X_train, X_test, y_train, y_test = train_test_split(X, y, test_size=0.2, random_state=42)"
   ]
  },
  {
   "cell_type": "code",
   "execution_count": 20,
   "metadata": {
    "vscode": {
     "languageId": "python"
    }
   },
   "outputs": [
    {
     "name": "stderr",
     "output_type": "stream",
     "text": [
      "/tmp/ipykernel_25159/3306673646.py:2: DataConversionWarning: A column-vector y was passed when a 1d array was expected. Please change the shape of y to (n_samples,), for example using ravel().\n",
      "  model.fit(X_train,y_train)\n"
     ]
    },
    {
     "data": {
      "text/html": [
       "<style>#sk-container-id-2 {color: black;background-color: white;}#sk-container-id-2 pre{padding: 0;}#sk-container-id-2 div.sk-toggleable {background-color: white;}#sk-container-id-2 label.sk-toggleable__label {cursor: pointer;display: block;width: 100%;margin-bottom: 0;padding: 0.3em;box-sizing: border-box;text-align: center;}#sk-container-id-2 label.sk-toggleable__label-arrow:before {content: \"▸\";float: left;margin-right: 0.25em;color: #696969;}#sk-container-id-2 label.sk-toggleable__label-arrow:hover:before {color: black;}#sk-container-id-2 div.sk-estimator:hover label.sk-toggleable__label-arrow:before {color: black;}#sk-container-id-2 div.sk-toggleable__content {max-height: 0;max-width: 0;overflow: hidden;text-align: left;background-color: #f0f8ff;}#sk-container-id-2 div.sk-toggleable__content pre {margin: 0.2em;color: black;border-radius: 0.25em;background-color: #f0f8ff;}#sk-container-id-2 input.sk-toggleable__control:checked~div.sk-toggleable__content {max-height: 200px;max-width: 100%;overflow: auto;}#sk-container-id-2 input.sk-toggleable__control:checked~label.sk-toggleable__label-arrow:before {content: \"▾\";}#sk-container-id-2 div.sk-estimator input.sk-toggleable__control:checked~label.sk-toggleable__label {background-color: #d4ebff;}#sk-container-id-2 div.sk-label input.sk-toggleable__control:checked~label.sk-toggleable__label {background-color: #d4ebff;}#sk-container-id-2 input.sk-hidden--visually {border: 0;clip: rect(1px 1px 1px 1px);clip: rect(1px, 1px, 1px, 1px);height: 1px;margin: -1px;overflow: hidden;padding: 0;position: absolute;width: 1px;}#sk-container-id-2 div.sk-estimator {font-family: monospace;background-color: #f0f8ff;border: 1px dotted black;border-radius: 0.25em;box-sizing: border-box;margin-bottom: 0.5em;}#sk-container-id-2 div.sk-estimator:hover {background-color: #d4ebff;}#sk-container-id-2 div.sk-parallel-item::after {content: \"\";width: 100%;border-bottom: 1px solid gray;flex-grow: 1;}#sk-container-id-2 div.sk-label:hover label.sk-toggleable__label {background-color: #d4ebff;}#sk-container-id-2 div.sk-serial::before {content: \"\";position: absolute;border-left: 1px solid gray;box-sizing: border-box;top: 0;bottom: 0;left: 50%;z-index: 0;}#sk-container-id-2 div.sk-serial {display: flex;flex-direction: column;align-items: center;background-color: white;padding-right: 0.2em;padding-left: 0.2em;position: relative;}#sk-container-id-2 div.sk-item {position: relative;z-index: 1;}#sk-container-id-2 div.sk-parallel {display: flex;align-items: stretch;justify-content: center;background-color: white;position: relative;}#sk-container-id-2 div.sk-item::before, #sk-container-id-2 div.sk-parallel-item::before {content: \"\";position: absolute;border-left: 1px solid gray;box-sizing: border-box;top: 0;bottom: 0;left: 50%;z-index: -1;}#sk-container-id-2 div.sk-parallel-item {display: flex;flex-direction: column;z-index: 1;position: relative;background-color: white;}#sk-container-id-2 div.sk-parallel-item:first-child::after {align-self: flex-end;width: 50%;}#sk-container-id-2 div.sk-parallel-item:last-child::after {align-self: flex-start;width: 50%;}#sk-container-id-2 div.sk-parallel-item:only-child::after {width: 0;}#sk-container-id-2 div.sk-dashed-wrapped {border: 1px dashed gray;margin: 0 0.4em 0.5em 0.4em;box-sizing: border-box;padding-bottom: 0.4em;background-color: white;}#sk-container-id-2 div.sk-label label {font-family: monospace;font-weight: bold;display: inline-block;line-height: 1.2em;}#sk-container-id-2 div.sk-label-container {text-align: center;}#sk-container-id-2 div.sk-container {/* jupyter's `normalize.less` sets `[hidden] { display: none; }` but bootstrap.min.css set `[hidden] { display: none !important; }` so we also need the `!important` here to be able to override the default hidden behavior on the sphinx rendered scikit-learn.org. See: https://github.com/scikit-learn/scikit-learn/issues/21755 */display: inline-block !important;position: relative;}#sk-container-id-2 div.sk-text-repr-fallback {display: none;}</style><div id=\"sk-container-id-2\" class=\"sk-top-container\"><div class=\"sk-text-repr-fallback\"><pre>RandomForestRegressor(max_depth=500, random_state=2)</pre><b>In a Jupyter environment, please rerun this cell to show the HTML representation or trust the notebook. <br />On GitHub, the HTML representation is unable to render, please try loading this page with nbviewer.org.</b></div><div class=\"sk-container\" hidden><div class=\"sk-item\"><div class=\"sk-estimator sk-toggleable\"><input class=\"sk-toggleable__control sk-hidden--visually\" id=\"sk-estimator-id-2\" type=\"checkbox\" checked><label for=\"sk-estimator-id-2\" class=\"sk-toggleable__label sk-toggleable__label-arrow\">RandomForestRegressor</label><div class=\"sk-toggleable__content\"><pre>RandomForestRegressor(max_depth=500, random_state=2)</pre></div></div></div></div></div>"
      ],
      "text/plain": [
       "RandomForestRegressor(max_depth=500, random_state=2)"
      ]
     },
     "execution_count": 20,
     "metadata": {},
     "output_type": "execute_result"
    }
   ],
   "source": [
    "model = RandomForestRegressor(max_depth=500, random_state=2)\n",
    "model.fit(X_train,y_train)"
   ]
  },
  {
   "cell_type": "code",
   "execution_count": 21,
   "metadata": {
    "vscode": {
     "languageId": "python"
    }
   },
   "outputs": [],
   "source": [
    "y_pred = model.predict(X_test)"
   ]
  },
  {
   "cell_type": "code",
   "execution_count": 22,
   "metadata": {
    "vscode": {
     "languageId": "python"
    }
   },
   "outputs": [
    {
     "data": {
      "text/plain": [
       "array([[0.21985319],\n",
       "       [0.17162128],\n",
       "       [0.19787553],\n",
       "       ...,\n",
       "       [0.20868404],\n",
       "       [0.19326596],\n",
       "       [0.21594255]])"
      ]
     },
     "execution_count": 22,
     "metadata": {},
     "output_type": "execute_result"
    }
   ],
   "source": [
    "y_pred.reshape(-1,1)"
   ]
  },
  {
   "cell_type": "code",
   "execution_count": 23,
   "metadata": {
    "vscode": {
     "languageId": "python"
    }
   },
   "outputs": [
    {
     "data": {
      "text/plain": [
       "array([[0.21985319],\n",
       "       [0.17162128],\n",
       "       [0.19787553],\n",
       "       ...,\n",
       "       [0.20868404],\n",
       "       [0.19326596],\n",
       "       [0.21594255]])"
      ]
     },
     "execution_count": 23,
     "metadata": {},
     "output_type": "execute_result"
    }
   ],
   "source": [
    "y_pred.reshape(-1,1)"
   ]
  },
  {
   "cell_type": "code",
   "execution_count": 30,
   "metadata": {
    "vscode": {
     "languageId": "python"
    }
   },
   "outputs": [
    {
     "data": {
      "text/plain": [
       "0.015894587058593843"
      ]
     },
     "execution_count": 30,
     "metadata": {},
     "output_type": "execute_result"
    }
   ],
   "source": [
    "mse = mean_squared_error(y_test, y_pred, squared=False)\n",
    "mse"
   ]
  },
  {
   "cell_type": "code",
   "execution_count": 26,
   "metadata": {
    "vscode": {
     "languageId": "python"
    }
   },
   "outputs": [
    {
     "data": {
      "text/plain": [
       "0.7608383571911255"
      ]
     },
     "execution_count": 26,
     "metadata": {},
     "output_type": "execute_result"
    }
   ],
   "source": [
    "from sklearn.metrics import r2_score\n",
    "r2_score(y_test,y_pred)"
   ]
  }
 ],
 "metadata": {
  "kernelspec": {
   "display_name": "Python 3 (ipykernel)",
   "language": "python",
   "name": "python3"
  },
  "orig_nbformat": 4
 },
 "nbformat": 4,
 "nbformat_minor": 2
}
